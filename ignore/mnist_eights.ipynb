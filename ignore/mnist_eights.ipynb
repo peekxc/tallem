{
 "cells": [
  {
   "cell_type": "code",
   "execution_count": 2,
   "source": [
    "import mnist\n",
    "import scipy.misc\n",
    "images = mnist.train_images()"
   ],
   "outputs": [],
   "metadata": {}
  },
  {
   "cell_type": "code",
   "execution_count": 16,
   "source": [
    "import numpy as np\n",
    "class_labels = mnist.train_labels()\n",
    "eights = images[np.where(class_labels == 8)[0], :, :]\n",
    "\n",
    "import pickle\n",
    "with open('../data/mnist_eights.pickle', 'wb') as handle:\n",
    "    pickle.dump(eights, handle, protocol=pickle.HIGHEST_PROTOCOL)"
   ],
   "outputs": [],
   "metadata": {}
  },
  {
   "cell_type": "code",
   "execution_count": null,
   "source": [],
   "outputs": [],
   "metadata": {}
  }
 ],
 "metadata": {
  "orig_nbformat": 4,
  "language_info": {
   "name": "python",
   "version": "3.9.5",
   "mimetype": "text/x-python",
   "codemirror_mode": {
    "name": "ipython",
    "version": 3
   },
   "pygments_lexer": "ipython3",
   "nbconvert_exporter": "python",
   "file_extension": ".py"
  },
  "kernelspec": {
   "name": "python3",
   "display_name": "Python 3.9.5 64-bit ('tallem': conda)"
  },
  "interpreter": {
   "hash": "60fefb3699703be3e229134b062caaa611ff9272f5e4e895983362cfba17e8e3"
  }
 },
 "nbformat": 4,
 "nbformat_minor": 2
}