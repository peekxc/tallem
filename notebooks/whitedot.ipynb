{
 "cells": [
  {
   "cell_type": "code",
   "execution_count": 1,
   "source": [
    "# %% Patch the PYTHONPATH to run scripts native to parent-level folder\n",
    "import sys\n",
    "import os\n",
    "PACKAGE_PARENT = '..'\n",
    "sys.path.append(os.path.normpath(os.path.expanduser(\"~/tallem\")))"
   ],
   "outputs": [],
   "metadata": {}
  },
  {
   "cell_type": "code",
   "execution_count": 9,
   "source": [
    "import pickle\n",
    "X = pickle.load(open(\"/Users/mpiekenbrock/tallem/blob_images_uniform_domain.p\", 'rb'))\n",
    "\n",
    "\n",
    "fig = plt.figure(figsize=(8, 8))\n",
    "for i, p in enumerate(P[0:30]):\n",
    "\tfig.add_subplot(5, 10, i+1)\n",
    "\tplt.imshow(P[i], cmap='gray', vmin=0, vmax=max_val)\n",
    "\tfig.gca().axes.get_xaxis().set_visible(False)\n",
    "\tfig.gca().axes.get_yaxis().set_visible(False)"
   ],
   "outputs": [
    {
     "output_type": "execute_result",
     "data": {
      "text/plain": [
       "array([[4.04674539e-37, 1.50626149e-35, 3.30434979e-34, ...,\n",
       "        1.80194244e-04, 4.09271511e-06, 5.47864635e-08],\n",
       "       [1.97090679e-03, 3.52058897e-02, 3.70642924e-01, ...,\n",
       "        1.57555569e-34, 1.71735116e-36, 1.10325424e-38],\n",
       "       [3.25906973e-39, 6.37554039e-39, 7.35074744e-39, ...,\n",
       "        2.91299585e-17, 3.47727730e-20, 2.44641390e-23],\n",
       "       ...,\n",
       "       [1.22079082e-12, 1.63230333e-10, 1.28632771e-08, ...,\n",
       "        1.72712528e-16, 1.40915758e-17, 6.77620337e-19],\n",
       "       [4.73673583e-25, 8.28984275e-22, 8.55075713e-19, ...,\n",
       "        1.35098312e-41, 1.44275690e-41, 9.08087189e-42],\n",
       "       [7.73940187e-67, 3.36924204e-63, 8.64466513e-60, ...,\n",
       "        2.16433101e+00, 5.74942754e+00, 9.00153716e+00]])"
      ]
     },
     "metadata": {},
     "execution_count": 9
    }
   ],
   "metadata": {}
  },
  {
   "cell_type": "code",
   "execution_count": 110,
   "source": [
    "max_val = mvn_density(np.array([[0,0]]), [0, 0], Sigma)[0]\n",
    "phi = np.random.uniform(low=0, high=2*np.pi, size=100)\n",
    "theta = np.random.uniform(low=-np.pi/2, high=np.pi/2, size=100)\n",
    "\n",
    "X, Y = (phi/(2*np.pi))*17, ((theta/np.pi)*17) + (17/2)\n",
    "# print(np.min(X), np.max(X), np.min(Y), np.max(Y))\n",
    "\n",
    "P = [gaussian_pixel([x, y], Sigma, s=1) for x,y in np.c_[X,Y]]\n",
    "\n",
    "#print((phi/(2*np.pi)))\n",
    "# plt.imshow(P[1], cmap='gray', vmin=0, vmax=np.max(P[i]))\n",
    "\n",
    "fig = plt.figure(figsize=(8, 8))\n",
    "for i, p in enumerate(P[0:30]):\n",
    "\tfig.add_subplot(5, 10, i+1)\n",
    "\tplt.imshow(P[i], cmap='gray', vmin=0, vmax=max_val)\n",
    "\tfig.gca().axes.get_xaxis().set_visible(False)\n",
    "\tfig.gca().axes.get_yaxis().set_visible(False)\n",
    "\n",
    "\n",
    "## Generate images w/ varying intensity \n",
    "phi = np.repeat(np.pi, 100)\n",
    "theta = np.repeat(0.0, 100)\n",
    "R = np.random.uniform(low=0,high=1,size=100)\n",
    "X, Y = (phi/(2*np.pi))*17, ((theta/np.pi)*17) + (17/2)\n",
    "Q = [gaussian_pixel([x, y], Sigma, s=np.abs(r)) for x,y,r in np.c_[X,Y,R]]\n",
    "\n",
    "phi = np.repeat(0, 100)\n",
    "R = np.random.uniform(low=-1,high=0,size=100)\n",
    "X, Y = (phi/(2*np.pi))*17, ((theta/np.pi)*17) + (17/2)\n",
    "Q2 = [gaussian_pixel([x, y], Sigma, s=np.abs(r)) for x,y,r in np.c_[X,Y,R]]\n",
    "\n",
    "\n",
    "for i, p in enumerate(Q[0:20]):\n",
    "\tfig.add_subplot(5, 10, i+1+30)\n",
    "\tplt.imshow(Q[i], cmap='gray', vmin=0, vmax=max_val)\n",
    "\tfig.gca().axes.get_xaxis().set_visible(False)\n",
    "\tfig.gca().axes.get_yaxis().set_visible(False)\n",
    "\n",
    "# \t# axs[i].imshow(P[i], cmap='gray', vmin=0, vmax=np.max(P[i]))\n",
    "# \t# axs.gca().axes.get_yaxis().set_visible(False)\n",
    "# \t# axs.xticks([])\n",
    "# \t# axs.yticks([])"
   ],
   "outputs": [
    {
     "output_type": "display_data",
     "data": {
      "image/png": "[encoded data removed]",
      "text/plain": [
       "<Figure size 576x576 with 50 Axes>"
      ]
     },
     "metadata": {
      "needs_background": "light"
     }
    }
   ],
   "metadata": {}
  },
  {
   "cell_type": "code",
   "execution_count": 114,
   "source": [
    "sphere = np.vstack([np.ravel(p) for p in P])\n",
    "line_s1 = np.vstack([np.ravel(q) for q in Q])\n",
    "line_s2 = np.vstack([np.ravel(q) for q in Q2])\n",
    "dot = np.vstack((sphere, line_s1, line_s2))\n",
    "dot.shape"
   ],
   "outputs": [
    {
     "output_type": "execute_result",
     "data": {
      "text/plain": [
       "(300, 289)"
      ]
     },
     "metadata": {},
     "execution_count": 114
    }
   ],
   "metadata": {}
  },
  {
   "cell_type": "code",
   "execution_count": 1,
   "source": [
    "from src.tallem import TALLEM\n",
    "from src.tallem.cover import IntervalCover, BallCover\n",
    "\n",
    "\n",
    "from src.tallem.landmark import landmarks \n",
    "\n",
    "L = landmarks(dot, k=25)\n",
    "r = np.min(L['radii'])\n",
    "centers = dot[L['indices'],:]\n",
    "cover = BallCover(centers, r)\n",
    "\n",
    "## construct the cover\n",
    "cover.construct(dot)\n",
    "\n",
    "# for k,v in cover.items():\n",
    "# \tprint(v)\n",
    "\n",
    "# print(cover.centers)\n",
    "## Construct the partition of unity \n",
    "\n",
    "# LandmarkCover()\n",
    "\n",
    "## Construct a cover over the polar coordinate\n",
    "#cover = IntervalCover(B[:,[1]], n_sets = 10, overlap = 0.30, gluing=[1])\n",
    "\n",
    "## Local euclidean models are specified with a function\n",
    "# f = lambda x: classical_MDS(dist(x, as_matrix=True), k = 2)\n",
    "\n",
    "# ## Parameterize TALLEM + transform the data to the obtain the coordinization\n",
    "# embedding = TALLEM(cover=cover, local_map=f, n_components=3)\n",
    "# X_transformed = embedding.fit_transform(X, B_polar)\n"
   ],
   "outputs": [
    {
     "output_type": "error",
     "ename": "ModuleNotFoundError",
     "evalue": "No module named 'src.tallem'",
     "traceback": [
      "\u001b[0;31m---------------------------------------------------------------------------\u001b[0m",
      "\u001b[0;31mModuleNotFoundError\u001b[0m                       Traceback (most recent call last)",
      "\u001b[0;32m<ipython-input-1-16b8ed40cf2b>\u001b[0m in \u001b[0;36m<module>\u001b[0;34m\u001b[0m\n\u001b[0;32m----> 1\u001b[0;31m \u001b[0;32mfrom\u001b[0m \u001b[0msrc\u001b[0m\u001b[0;34m.\u001b[0m\u001b[0mtallem\u001b[0m \u001b[0;32mimport\u001b[0m \u001b[0mTALLEM\u001b[0m\u001b[0;34m\u001b[0m\u001b[0;34m\u001b[0m\u001b[0m\n\u001b[0m\u001b[1;32m      2\u001b[0m \u001b[0;32mfrom\u001b[0m \u001b[0msrc\u001b[0m\u001b[0;34m.\u001b[0m\u001b[0mtallem\u001b[0m\u001b[0;34m.\u001b[0m\u001b[0mcover\u001b[0m \u001b[0;32mimport\u001b[0m \u001b[0mIntervalCover\u001b[0m\u001b[0;34m,\u001b[0m \u001b[0mBallCover\u001b[0m\u001b[0;34m\u001b[0m\u001b[0;34m\u001b[0m\u001b[0m\n\u001b[1;32m      3\u001b[0m \u001b[0;34m\u001b[0m\u001b[0m\n\u001b[1;32m      4\u001b[0m \u001b[0;34m\u001b[0m\u001b[0m\n\u001b[1;32m      5\u001b[0m \u001b[0;32mfrom\u001b[0m \u001b[0msrc\u001b[0m\u001b[0;34m.\u001b[0m\u001b[0mtallem\u001b[0m\u001b[0;34m.\u001b[0m\u001b[0mlandmark\u001b[0m \u001b[0;32mimport\u001b[0m \u001b[0mlandmarks\u001b[0m\u001b[0;34m\u001b[0m\u001b[0;34m\u001b[0m\u001b[0m\n",
      "\u001b[0;31mModuleNotFoundError\u001b[0m: No module named 'src.tallem'"
     ]
    }
   ],
   "metadata": {}
  },
  {
   "cell_type": "code",
   "execution_count": 2,
   "source": [
    "from src.tallem.dimred import cmds\n",
    "f = lambda x: cmds(dist(x, as_matrix=True), k = 2)\n",
    "embedding = TALLEM(cover, local_map=f, n_components=2)\n",
    "\n",
    "coords = embedding.fit_transform(dot, B=dot)"
   ],
   "outputs": [
    {
     "output_type": "error",
     "ename": "ModuleNotFoundError",
     "evalue": "No module named 'src.tallem'",
     "traceback": [
      "\u001b[0;31m---------------------------------------------------------------------------\u001b[0m",
      "\u001b[0;31mModuleNotFoundError\u001b[0m                       Traceback (most recent call last)",
      "\u001b[0;32m/var/folders/0l/b3dbb2_d2bb4y3wbbfk0wt_80000gn/T/ipykernel_19484/2205799798.py\u001b[0m in \u001b[0;36m<module>\u001b[0;34m\u001b[0m\n\u001b[0;32m----> 1\u001b[0;31m \u001b[0;32mfrom\u001b[0m \u001b[0msrc\u001b[0m\u001b[0;34m.\u001b[0m\u001b[0mtallem\u001b[0m\u001b[0;34m.\u001b[0m\u001b[0mdimred\u001b[0m \u001b[0;32mimport\u001b[0m \u001b[0mcmds\u001b[0m\u001b[0;34m\u001b[0m\u001b[0;34m\u001b[0m\u001b[0m\n\u001b[0m\u001b[1;32m      2\u001b[0m \u001b[0mf\u001b[0m \u001b[0;34m=\u001b[0m \u001b[0;32mlambda\u001b[0m \u001b[0mx\u001b[0m\u001b[0;34m:\u001b[0m \u001b[0mcmds\u001b[0m\u001b[0;34m(\u001b[0m\u001b[0mdist\u001b[0m\u001b[0;34m(\u001b[0m\u001b[0mx\u001b[0m\u001b[0;34m,\u001b[0m \u001b[0mas_matrix\u001b[0m\u001b[0;34m=\u001b[0m\u001b[0;32mTrue\u001b[0m\u001b[0;34m)\u001b[0m\u001b[0;34m,\u001b[0m \u001b[0mk\u001b[0m \u001b[0;34m=\u001b[0m \u001b[0;36m2\u001b[0m\u001b[0;34m)\u001b[0m\u001b[0;34m\u001b[0m\u001b[0;34m\u001b[0m\u001b[0m\n\u001b[1;32m      3\u001b[0m \u001b[0membedding\u001b[0m \u001b[0;34m=\u001b[0m \u001b[0mTALLEM\u001b[0m\u001b[0;34m(\u001b[0m\u001b[0mcover\u001b[0m\u001b[0;34m,\u001b[0m \u001b[0mlocal_map\u001b[0m\u001b[0;34m=\u001b[0m\u001b[0mf\u001b[0m\u001b[0;34m,\u001b[0m \u001b[0mn_components\u001b[0m\u001b[0;34m=\u001b[0m\u001b[0;36m2\u001b[0m\u001b[0;34m)\u001b[0m\u001b[0;34m\u001b[0m\u001b[0;34m\u001b[0m\u001b[0m\n\u001b[1;32m      4\u001b[0m \u001b[0;34m\u001b[0m\u001b[0m\n\u001b[1;32m      5\u001b[0m \u001b[0mcoords\u001b[0m \u001b[0;34m=\u001b[0m \u001b[0membedding\u001b[0m\u001b[0;34m.\u001b[0m\u001b[0mfit_transform\u001b[0m\u001b[0;34m(\u001b[0m\u001b[0mdot\u001b[0m\u001b[0;34m,\u001b[0m \u001b[0mB\u001b[0m\u001b[0;34m=\u001b[0m\u001b[0mdot\u001b[0m\u001b[0;34m)\u001b[0m\u001b[0;34m\u001b[0m\u001b[0;34m\u001b[0m\u001b[0m\n",
      "\u001b[0;31mModuleNotFoundError\u001b[0m: No module named 'src.tallem'"
     ]
    }
   ],
   "metadata": {}
  },
  {
   "cell_type": "code",
   "execution_count": 8,
   "source": [
    "x = 1"
   ],
   "outputs": [],
   "metadata": {}
  }
 ],
 "metadata": {
  "orig_nbformat": 4,
  "language_info": {
   "name": "python",
   "version": "3.9.5",
   "mimetype": "text/x-python",
   "codemirror_mode": {
    "name": "ipython",
    "version": 3
   },
   "pygments_lexer": "ipython3",
   "nbconvert_exporter": "python",
   "file_extension": ".py"
  },
  "kernelspec": {
   "name": "python3",
   "display_name": "Python 3.9.5 64-bit ('tallem': conda)"
  },
  "interpreter": {
   "hash": "60fefb3699703be3e229134b062caaa611ff9272f5e4e895983362cfba17e8e3"
  }
 },
 "nbformat": 4,
 "nbformat_minor": 2
}