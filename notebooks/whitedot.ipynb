{
 "cells": [
  {
   "cell_type": "code",
   "execution_count": 18,
   "source": [
    "# %% Patch the PYTHONPATH to run scripts native to parent-level folder\n",
    "import sys\n",
    "import os\n",
    "PACKAGE_PARENT = '..'\n",
    "sys.path.append(os.path.normpath(os.path.expanduser(\"~/tallem\")))"
   ],
   "outputs": [],
   "metadata": {}
  },
  {
   "cell_type": "code",
   "execution_count": 46,
   "source": [
    "import matplotlib.pyplot as plt \n",
    "import numpy as np\n",
    "\n",
    "def gaussian(x, mu, sig):\n",
    "\treturn 1./(np.sqrt(2.*np.pi)*sig)*np.exp(-np.power((x - mu)/sig, 2.)/2)\n",
    "\n",
    "I = np.zeros(shape=(17,17))\n",
    "\n",
    "# \n",
    "\n",
    "mu = [8, 8]\n",
    "Sigma = np.diag([2,2])\n",
    "locations = np.array([[0,0], [0,1], [1,0], [1,1]])\n",
    "\n",
    "\n",
    "def mvn_density(locations, mu, Sigma):\n",
    "\td, k, S_inv, mu = np.linalg.det(Sigma), len(mu), np.linalg.inv(Sigma), np.asanyarray(mu)[:,np.newaxis]\n",
    "\tresult = np.zeros(locations.shape[0])\n",
    "\tfor i, x in enumerate(locations): \n",
    "\t\tx = x.reshape(mu.shape)\n",
    "\t\tf_x = np.exp(-0.5*((x - mu).T @ S_inv @ (x - mu)))/np.sqrt((2*np.pi)**k * d)\n",
    "\t\tresult[i] = f_x\n",
    "\treturn(result)\n",
    "\t\n",
    "def gaussian_pixel(center, Sigma, d=17,s=1):\n",
    "\tfrom src.tallem.utility import cartesian_product\n",
    "\tgrid_ind = cartesian_product([range(d), range(d)])\n",
    "\tgrid = np.zeros(shape=(d,d))\t\n",
    "\tF = mvn_density(grid_ind, center, Sigma)\n",
    "\tfor i, ind in enumerate(grid_ind):\n",
    "\t\tr,c = ind\n",
    "\t\tgrid[r,c] = s*F[i]\n",
    "\treturn(grid)\n",
    "\n",
    "plt.imshow(gaussian_pixel([8.5, 8.5], Sigma, s=1), cmap='gray', vmin=0, vmax=np.max(F))"
   ],
   "outputs": [
    {
     "output_type": "execute_result",
     "data": {
      "text/plain": [
       "<matplotlib.image.AxesImage at 0x7fec2c088100>"
      ]
     },
     "metadata": {},
     "execution_count": 46
    },
    {
     "output_type": "display_data",
     "data": {
      "image/png": "[encoded data removed]",
      "text/plain": [
       "<Figure size 432x288 with 1 Axes>"
      ]
     },
     "metadata": {
      "needs_background": "light"
     }
    }
   ],
   "metadata": {}
  },
  {
   "cell_type": "code",
   "execution_count": 76,
   "source": [
    "phi = np.random.uniform(low=0, high=2*np.pi, size=100)\n",
    "theta = np.random.uniform(low=-np.pi/2, high=np.pi/2, size=100)\n",
    "\n",
    "X, Y = (phi/(2*np.pi))*17, ((theta/np.pi)*17) + 8\n",
    "\n",
    "print(np.min(X), np.max(X), np.min(Y), np.max(Y))\n",
    "\n",
    "P = [gaussian_pixel([x, y], Sigma, s=1) for x,y in np.c_[X,Y]]\n",
    "\n",
    "#print((phi/(2*np.pi)))\n",
    "# plt.imshow(P[1], cmap='gray', vmin=0, vmax=np.max(P[i]))\n",
    "\n",
    "fig = plt.figure(figsize=(8, 8))\n",
    "for i, p in enumerate(P[0:25]):\n",
    "\tfig.add_subplot(5, 5, i+1)\n",
    "\tplt.imshow(P[i], cmap='gray', vmin=0, vmax=np.max(P[i]))\n",
    "\n",
    "\n",
    "\n",
    "# \t# axs[i].imshow(P[i], cmap='gray', vmin=0, vmax=np.max(P[i]))\n",
    "# \t# axs.gca().axes.get_yaxis().set_visible(False)\n",
    "# \t# axs.xticks([])\n",
    "# \t# axs.yticks([])"
   ],
   "outputs": [
    {
     "output_type": "stream",
     "name": "stdout",
     "text": [
      "0.13919988234736302 16.93878086680917 -0.380358091762389 16.3276377650231\n"
     ]
    },
    {
     "output_type": "display_data",
     "data": {
      "image/png": "[encoded data removed]",
      "text/plain": [
       "<Figure size 576x576 with 25 Axes>"
      ]
     },
     "metadata": {
      "needs_background": "light"
     }
    }
   ],
   "metadata": {}
  },
  {
   "cell_type": "code",
   "execution_count": null,
   "source": [],
   "outputs": [],
   "metadata": {}
  }
 ],
 "metadata": {
  "orig_nbformat": 4,
  "language_info": {
   "name": "python",
   "version": "3.9.5",
   "mimetype": "text/x-python",
   "codemirror_mode": {
    "name": "ipython",
    "version": 3
   },
   "pygments_lexer": "ipython3",
   "nbconvert_exporter": "python",
   "file_extension": ".py"
  },
  "kernelspec": {
   "name": "python3",
   "display_name": "Python 3.9.5 64-bit ('tallem': conda)"
  },
  "interpreter": {
   "hash": "60fefb3699703be3e229134b062caaa611ff9272f5e4e895983362cfba17e8e3"
  }
 },
 "nbformat": 4,
 "nbformat_minor": 2
}